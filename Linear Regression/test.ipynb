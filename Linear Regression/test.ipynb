{
 "cells": [
  {
   "cell_type": "code",
   "execution_count": null,
   "metadata": {},
   "outputs": [],
   "source": [
    "import sklearn\n",
    "import pandas as pd\n",
    "import numpy as np\n",
    "from sklearn import linear_model\n",
    "from sklearn.utils import shuffle\n",
    "import matplotlib.pyplot as pyplot\n",
    "import pickle\n",
    "from matplotlib import style"
   ]
  },
  {
   "cell_type": "markdown",
   "metadata": {},
   "source": [
    "linearregression "
   ]
  },
  {
   "cell_type": "code",
   "execution_count": null,
   "metadata": {},
   "outputs": [],
   "source": [
    "data = pd.read_csv(\"student-mat.csv\",sep=\";\")\n",
    "print (data.head())\n",
    "data = data[[\"G1\",\"G2\",\"G3\",\"studytime\",\"failures\",\"absences\"]]\n",
    "print (data.head())"
   ]
  },
  {
   "cell_type": "code",
   "execution_count": null,
   "metadata": {},
   "outputs": [],
   "source": [
    "predict =\"G3\"\n",
    "x = np.array(data.drop([predict],1))\n",
    "y = np.array(data[predict])\n",
    "x_train,x_test,y_train,y_test = sklearn.model_selection.train_test_split(x,y,test_size=0.1)\n"
   ]
  },
  {
   "cell_type": "code",
   "execution_count": null,
   "metadata": {},
   "outputs": [],
   "source": [
    "\"\"\"best = 0\n",
    "for i in range(30):\n",
    "    x_train,x_test,y_train,y_test = sklearn.model_selection.train_test_split(x,y,test_size=0.1)\n",
    "    linear  = linear_model.LinearRegression()\n",
    "    linear.fit(x_train,y_train)\n",
    "    acc = linear.score(x_test,y_test)\n",
    "    print (acc)\n",
    "    if acc > best:\n",
    "        best = acc\n",
    "        with open(\"studentmodel.pickle\",\"wb\") as f:\n",
    "           pickle.dump(linear,f)\"\"\"\n",
    "#pickle_in = open(\"studentmodel.pickle\",\"rb\")\n",
    "#linear = pickle.load(pickle_in)\n"
   ]
  },
  {
   "cell_type": "code",
   "execution_count": null,
   "metadata": {},
   "outputs": [],
   "source": [
    "print(\"coefficient:\\n \" , linear.coef_)\n",
    "print(\"intercept: \\n\", linear.intercept_)\n",
    "prediction =linear.predict(x_test)\n",
    "for x in range(len(prediction)):\n",
    "    print(prediction[x],x_test[x],y_test[x])"
   ]
  },
  {
   "cell_type": "code",
   "execution_count": null,
   "metadata": {},
   "outputs": [],
   "source": [
    "p = \"G1\"\n",
    "style.use(\"ggplot\")\n",
    "pyplot.scatter(data[p],data[\"G3\"])\n",
    "pyplot.xlabel(p)\n",
    "pyplot.ylabel(\"Final Grade\")\n",
    "pyplot.show()"
   ]
  },
  {
   "cell_type": "code",
   "execution_count": null,
   "metadata": {},
   "outputs": [],
   "source": [
    "p = \"G2\"\n",
    "style.use(\"ggplot\")\n",
    "pyplot.scatter(data[p],data[\"G3\"])\n",
    "pyplot.xlabel(p)\n",
    "pyplot.ylabel(\"Final Grade\")\n",
    "pyplot.show()"
   ]
  },
  {
   "cell_type": "code",
   "execution_count": null,
   "metadata": {},
   "outputs": [],
   "source": [
    "p = \"studytime\"\n",
    "style.use(\"ggplot\")\n",
    "pyplot.scatter(data[p],data[\"G3\"])\n",
    "pyplot.xlabel(p)\n",
    "pyplot.ylabel(\"Final Grade\")\n",
    "pyplot.show()"
   ]
  },
  {
   "cell_type": "code",
   "execution_count": null,
   "metadata": {},
   "outputs": [],
   "source": [
    "p = \"failures\"\n",
    "style.use(\"ggplot\")\n",
    "pyplot.scatter(data[p],data[\"G3\"])\n",
    "pyplot.xlabel(p)\n",
    "pyplot.ylabel(\"Final Grade\")\n",
    "pyplot.show()"
   ]
  },
  {
   "cell_type": "code",
   "execution_count": null,
   "metadata": {},
   "outputs": [],
   "source": [
    "p = \"absences\"\n",
    "style.use(\"ggplot\")\n",
    "pyplot.scatter(data[p],data[\"G3\"])\n",
    "pyplot.xlabel(p)\n",
    "pyplot.ylabel(\"Final Grade\")\n",
    "pyplot.show()"
   ]
  }
 ],
 "metadata": {
  "interpreter": {
   "hash": "97cc609b13305c559618ec78a438abc56230b9381f827f22d070313b9a1f3777"
  },
  "kernelspec": {
   "display_name": "Python 3.10.2 64-bit",
   "language": "python",
   "name": "python3"
  },
  "language_info": {
   "codemirror_mode": {
    "name": "ipython",
    "version": 3
   },
   "file_extension": ".py",
   "mimetype": "text/x-python",
   "name": "python",
   "nbconvert_exporter": "python",
   "pygments_lexer": "ipython3",
   "version": "3.9.12"
  },
  "orig_nbformat": 4
 },
 "nbformat": 4,
 "nbformat_minor": 2
}
